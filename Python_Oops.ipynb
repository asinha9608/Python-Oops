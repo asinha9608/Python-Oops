{
  "nbformat": 4,
  "nbformat_minor": 0,
  "metadata": {
    "colab": {
      "provenance": []
    },
    "kernelspec": {
      "name": "python3",
      "display_name": "Python 3"
    },
    "language_info": {
      "name": "python"
    }
  },
  "cells": [
    {
      "cell_type": "markdown",
      "source": [
        "   1. What is Object-Oriented Programming (OOP)?\n"
      ],
      "metadata": {
        "id": "IqOJHHqaHjlg"
      }
    },
    {
      "cell_type": "markdown",
      "source": [
        "   - Object-oriented programming is a programming paradigm that structures software design around objectrs,rather than function and logic. Objects are essentially data fields with unique attributes and behaviors. OOP focuses on manipulating these objects,rather than the specific code required to mainpulate them. Key concepts in OOP include classes,objects,irhertiacne,encapsulation,polymorphism,annd abstraction."
      ],
      "metadata": {
        "id": "s1sjencyh-Mz"
      }
    },
    {
      "cell_type": "markdown",
      "source": [
        "   2. What is a class in OOP?\n"
      ],
      "metadata": {
        "id": "oJhHo6FfjDXB"
      }
    },
    {
      "cell_type": "markdown",
      "source": [
        "  - In object-Oriented Programming(OOP), a class is a blueprint or template for creating objects. It defines the structure and behaviour that objects of that class will have. Think of it like a recipe for a cake-the class defines all the ingredients and steps needed to bake the cake,while an objeewct is a specific,baked cake made from that recipe."
      ],
      "metadata": {
        "id": "a3fwsJMPWHNi"
      }
    },
    {
      "cell_type": "markdown",
      "source": [
        "   3. What is an object in OOP?\n",
        "   -  In object-oriented programming,an object is a fundamental unit that represents a real world enity or concept. It's an instance of a class,containing both data and code that define its state and behavior. Objects enabling them to manipulate their own data and respond to other objects.\n"
      ],
      "metadata": {
        "id": "KF3iLocZXAPD"
      }
    },
    {
      "cell_type": "markdown",
      "source": [
        "   4. What is the difference between abstraction and encapsulation?\n",
        "    - Abstraction and encapsulation are fundamental concepts in object-oriented programming,often used together but serving distinct purposes. Here's a breakdown of their differences.\n",
        "    Abstraction- It focuses on what an object does rather than how it does it. It hides complex implemantion details and explses only essential information. Abstraction is achieved through abstract classes and interfaces in java.\n",
        "    Encapsulation- It focuses on how data is handled within an object. It bundless data and methods that operate on that data within a class,controlling access to the data through access modifiers. Encapsulation is achieved through classes and access modifiers in Java.\n",
        ":"
      ],
      "metadata": {
        "id": "mb1dQ9dVXv3f"
      }
    },
    {
      "cell_type": "markdown",
      "source": [
        "   5. What are dunder methods in Python?\n",
        "   \n"
      ],
      "metadata": {
        "id": "GX-4JlWwZjN7"
      }
    },
    {
      "cell_type": "markdown",
      "source": [
        "   - Dunder methods, also known as magic methods,are special mehtods in Python that begin and end with double underscores. They provide a way to define how objects of a class should behave with built-in operators and functions. these methods enable operator overloading and customization of object behaviour."
      ],
      "metadata": {
        "id": "FhWOPKJYZqUV"
      }
    },
    {
      "cell_type": "markdown",
      "source": [
        "   6. Explain the concept of inheritance in OOP.\n"
      ],
      "metadata": {
        "id": "sSXBogKWaQO9"
      }
    },
    {
      "cell_type": "markdown",
      "source": [
        "   - Inheritance in Object-Oriented Programming is a mechanism where a new class inherits attributes and methods from an existing class. The allows for code reusability and promortes a hierachical class structure. Essentially, a child class \"is a\" version of its parent class."
      ],
      "metadata": {
        "id": "DKlPOt45aaHa"
      }
    },
    {
      "cell_type": "markdown",
      "source": [
        "   7. What is polymorphism in OOP?\n"
      ],
      "metadata": {
        "id": "jN1uWdGabGeK"
      }
    },
    {
      "cell_type": "markdown",
      "source": [
        "   - In Objecgt-Oriented Programming polymorphism means \"many forms.\" It allows objects of different classes to be treated as objects of a common treated as objects of a common superclass, enabling code reuse and flexibility. This is achieved through techniques like method overriding and overloading, allowing the same mehtod name to be used with different implementations across various classes."
      ],
      "metadata": {
        "id": "Mnm1Am75bNo9"
      }
    },
    {
      "cell_type": "markdown",
      "source": [
        "   8. How is encapsulation achieved in Python?\n"
      ],
      "metadata": {
        "id": "jz3YbTbob9LG"
      }
    },
    {
      "cell_type": "markdown",
      "source": [
        "   - Encapsulation in Pyhton is achieved by restricting access to attributes and methods, effectively hiding the dinternal state of an object and preventing unintednded external modifications. This is primarily done through naming conventions, as Python doesn't enforce access modifiers like private in a strict sense as soem other languages do.\n",
        "   Public Members- By default, all attributes and methods in Python are public. They can be accessed form anywhere using the dot operator.\n",
        "   Protected Members- A single underscore prefix indicates a protected member. It suggests that the attribute or method is intended for internal use within the class and its sublasses, but it can still be accessed from outside.\n",
        "    Private Members- A double undercore prefix before ann attribute or method name makes it private. Python applies name mangling to make it harder to access form outside the class.\n",
        "    "
      ],
      "metadata": {
        "id": "UWdllBeIcFlF"
      }
    },
    {
      "cell_type": "markdown",
      "source": [
        "   9. What is a constructor in Python?\n"
      ],
      "metadata": {
        "id": "y8LekZmoduFu"
      }
    },
    {
      "cell_type": "markdown",
      "source": [
        "   - A constuctor in Python is a special method used to intialize objects of a class. It is automatically called when an object is created. THe constuctor's primary purpose is to set up the intial state of the object by assigning values to its attributes. In Python the constructor ios named."
      ],
      "metadata": {
        "id": "vFDUcroWd8Az"
      }
    },
    {
      "cell_type": "markdown",
      "source": [
        "   10. What are class and static methods in Python?\n"
      ],
      "metadata": {
        "id": "oAG_5qszecPK"
      }
    },
    {
      "cell_type": "markdown",
      "source": [
        "   - In Python, class methods and static methods are special types of methods defined within a class, but they behave differently form regular instance methods.\n",
        "   Class methods- They are bound to the class and not be instance of the class. They receive the class itself as the first argument, conventionally nmed cls.\n",
        "   They can access and modify class-level attributes.\n",
        "   Static methods- They are not bound to either the class or the instanc.\n",
        "   They do not recieve and special firs argument."
      ],
      "metadata": {
        "id": "YnnObpCOejAo"
      }
    },
    {
      "cell_type": "markdown",
      "source": [
        "   11. What is method overloading in Python?\n"
      ],
      "metadata": {
        "id": "MmkPwGYlfnxv"
      }
    },
    {
      "cell_type": "markdown",
      "source": [
        "   - Method overriding in Python occurs when a subclass provides a specific implementation for a method that is already defined in its superclass. This mechanism allows a subclass to modigy or extend the behaviour of an inherited method to suit its specific needs. When a method in a subclass has the same name,parameters, and return type as a mehtod in its superclass, the subclass's method overiede the superclass's mehtod."
      ],
      "metadata": {
        "id": "BJq8gtuPfxH7"
      }
    },
    {
      "cell_type": "markdown",
      "source": [
        "   12. What is method overriding in OOP?\n"
      ],
      "metadata": {
        "id": "fHWDnkwQgpIU"
      }
    },
    {
      "cell_type": "markdown",
      "source": [
        "   - Method overriding in object-oriented programming is mechanism where a subclass provides a specific implementation for a method that is already defined in its superclass. This allows the subclass to modify or extend the behavior of the inherited method, while still maintaining the same method name and signature."
      ],
      "metadata": {
        "id": "C7Zr05p6gyYl"
      }
    },
    {
      "cell_type": "markdown",
      "source": [
        "  13. What is a property decorator in Python?\n"
      ],
      "metadata": {
        "id": "XJ7DgA7gh4Lz"
      }
    },
    {
      "cell_type": "markdown",
      "source": [
        "   - The property decorator in Python is a built in feature that allows methods to be accessed like attributes. It provides  a way to encapsulate the logic for getting, setting, and deleting an attribut within a class, offering more control over attribute access and modification.\n",
        "   It is commonly used to implement \"getters\", \"Setters,\" and \"deleters\" in a more Pythonic way, without explicitly calling these methods. This can enhance code readabilitgy and maintainability."
      ],
      "metadata": {
        "id": "VW6O9Y5Eh_kJ"
      }
    },
    {
      "cell_type": "markdown",
      "source": [
        "   14. Why is polymorphism important in OOP?\n"
      ],
      "metadata": {
        "id": "-98bSpv8khi7"
      }
    },
    {
      "cell_type": "markdown",
      "source": [
        "   - Polymorphism is a key concept in objectoriented programming that allows for code reusability, flexibility, and maintainability. It enables objects of different classes to be treated as objects of a common type allowing for diverse functionalities to be handled through a uniform interface."
      ],
      "metadata": {
        "id": "RG4peBJLkqYd"
      }
    },
    {
      "cell_type": "markdown",
      "source": [
        "   15. What is an abstract class in Python?\n"
      ],
      "metadata": {
        "id": "Bq5jNSGplPhN"
      }
    },
    {
      "cell_type": "markdown",
      "source": [
        "   - An abstract class in Python is a class that cannot be instantiated directly  and is designed to serve as a blueprint for other classes. It defines a common interface for its subclasses, ensuring that they implement specific mehtods. Abstract classes are created using then abc module and ABC class as a base, along with the decorator to declare abstract methods.\n",
        "   Abstract classes can contain both abstract methods and concrete methods . Subclasses inheriting from an abstract class must provide concrete implementations for all its abstract mehtodfs, ore they will also be considered abstract classes. This mechanism enforces a conssitent structure and behavior a consistent stucture and behaviour across related classes, promoting code maintainablility and extensibility."
      ],
      "metadata": {
        "id": "VzCq37sQlWgU"
      }
    },
    {
      "cell_type": "markdown",
      "source": [
        "   16. What are the advantages of OOP?\n"
      ],
      "metadata": {
        "id": "rVvHylvomn4i"
      }
    },
    {
      "cell_type": "markdown",
      "source": [
        "   - Object-Oriented Programming(OOP) offers numerous advantages that mke it a popular choice for software development. These benefits include improved code organization, resuability,and maintainability, as well as enhanced security and scalability. OOP promortes a modular and stuctured approach to problem-solving, making it easier to debug,modigy, and extend software.\n",
        "   "
      ],
      "metadata": {
        "id": "I5kQtW9xmuEG"
      }
    },
    {
      "cell_type": "markdown",
      "source": [
        "   17. What is the difference between a class variable and an instance variable?\n"
      ],
      "metadata": {
        "id": "nHtUhL2Lnb70"
      }
    },
    {
      "cell_type": "markdown",
      "source": [
        "   17. What is the difference between a class variable and an instance variable?\n"
      ],
      "metadata": {
        "id": "96ixtN7vnjEQ"
      }
    },
    {
      "cell_type": "markdown",
      "source": [
        "   - Class  and instance variables are both variables associated with a class, but they differ in their scope and how they're accessed. Class variables, also known as static variables, belong to the class itself, emaning there's only one copy shared by all instances of that class. Instance variables, on the other hand, are unique to each in stance of the class, meaning each object has its own separate copy."
      ],
      "metadata": {
        "id": "FaP0zmvWoxL5"
      }
    },
    {
      "cell_type": "markdown",
      "source": [
        "   18. What is multiple inheritance in Python?\n"
      ],
      "metadata": {
        "id": "vnr7XlYrpeMh"
      }
    },
    {
      "cell_type": "markdown",
      "source": [
        "   - Multiple inheritance in Python is a feature that allows a class to inherit attributes and mehtods from multiple parent classes. This menas a class can combine and reuse funcgtionlaiteis from different sources. When a class inherits from mulgtiple classes, It gains all the members of those parent classes."
      ],
      "metadata": {
        "id": "fa5e_oFxpnbn"
      }
    },
    {
      "cell_type": "markdown",
      "source": [
        "   19. Explain the purpose of ‘’__str__’ and ‘__repr__’ ‘ methods in Python?\n"
      ],
      "metadata": {
        "id": "OiQGvn0-qSnQ"
      }
    },
    {
      "cell_type": "markdown",
      "source": [
        "   - In Python, the _str_and _repr_methods are special methods used to define how objects arte represented as strings. They are essential for providing informative and user-friendly output when working with custom classes."
      ],
      "metadata": {
        "id": "-z-Cj8EDqejk"
      }
    },
    {
      "cell_type": "markdown",
      "source": [
        "   20. What is the significance of the ‘super()’ function in Python?\n"
      ],
      "metadata": {
        "id": "qbbUGR3dq-Fg"
      }
    },
    {
      "cell_type": "markdown",
      "source": [
        "   - The super () function i  Python is used to call methods from a parent class in a subclass. I t provides a way to access and utilize inheriteed gunctionality, promoting code reuse and mainainability. The primary singificance of super () lies in its ability to hanlde complex inheritance scenarios, especially multiple inheritance, in a clean and efficient manner.\n",
        "   when a subclass overrides a methods of its parent class, super () allows the subclass to still call the original mehtod from the parent. This is paritcularly useful for extending the functionality of the parent method rather than completely replacing it, in the context of the _init_method,super () ensures that the parent class's initialization logic is executed, which is crucial for proper object setup.\n",
        "   In multiple inheritance scenarios, super () resolves the method resoulation order automatically, ensuring that methods are called in the coreect sequence even when there are diamonds or other complex inheritance structures. This makes the code more robust and less prone to errors."
      ],
      "metadata": {
        "id": "-Qxw0bmgrEXN"
      }
    },
    {
      "cell_type": "markdown",
      "source": [
        "   21. What is the significance of the __del__ method in Python?\n"
      ],
      "metadata": {
        "id": "UJxd1N8rvc1Z"
      }
    },
    {
      "cell_type": "markdown",
      "source": [
        "   - The _del_method in Python,also known as a destuctor,  is called when an object is about to be garbage collected. its primary purpose is to allow the object to perform cleanup actions, such as releasing external resources before it is removed from memory.\n",
        "   The _del_mehtod is automatically invoked the Python rutime when all refernces to an object hve been deleted. However,it's important to note that the exact timing of grabage collection and therefore the execution of _del_, is not guranteed. Relying management is generally discourged due to its unpredictable nature. Context managers and explicit cleanup methods are often prefered alternative.\n",
        "   It is also worth noting that if an exception is raised inside the_ del_ method, it will be ignored, and a warning will be printed to sys.stderr."
      ],
      "metadata": {
        "id": "uDXjZVwjvlfw"
      }
    },
    {
      "cell_type": "markdown",
      "source": [
        "   22. What is the difference between @staticmethod and @classmethod in Python?\n"
      ],
      "metadata": {
        "id": "ERZKoQIkxFXY"
      }
    },
    {
      "cell_type": "markdown",
      "source": [
        "    - They key difference between @staticmethod and @classmethod in Python lies in their interaction with the class and its instances.\n",
        "    @staticmethod- This decorator defines a method that is bound to the class but does not recive the class or instance as an implicit first argument. It behaves like a regular function, but is logically grouped within the class. It cannot access or modify class-specific or instance-specific attributes.\n",
        "    @classmethod- This decorator defines a method that receives the class itself as the first arguement, conventionalaly named cls. It can be used to create factory methods that return instances of the class or its subclasses."
      ],
      "metadata": {
        "id": "oh1r0P1OxeRz"
      }
    },
    {
      "cell_type": "markdown",
      "source": [
        "   23. How does polymorphism work in Python with inheritance?\n"
      ],
      "metadata": {
        "id": "gzUNf4Giy6ay"
      }
    },
    {
      "cell_type": "markdown",
      "source": [
        "   - Polymorphism in Python, in the context of inheritance, enables objects of different classes to respond to the same method call in a way that is specific to their class. This is fprimarily achieved through method overriding, where a subclass provides its own implementation of a methdo that is already defined in its superclass. When a method is called on an object, Python checks the object's class to determine which implemenation of the method to excute. If the method is defined in the object's class, that implementation is used otherwise Python looks for the method in the object's superclass and so on, up the inheritace hierachy."
      ],
      "metadata": {
        "id": "GBH12QkkzEXw"
      }
    },
    {
      "cell_type": "markdown",
      "source": [
        "   24. What is method chaining in Python OOP?\n"
      ],
      "metadata": {
        "id": "ztW4Av2D0QqW"
      }
    },
    {
      "cell_type": "markdown",
      "source": [
        "   - Method changing in Python is a programming technique used in object-oriented programming where multiple methods are called seqentially on the same object in a single line of code. This is achieved by having each method in the chain return the object instance after performing its operation. This allows subseqent methods to be called directly on the result of the previous method, creating a chain of method calls.\n",
        "   For method chaining to work, each method in the sequence must return the object instance. This allows the next method in the chain to be called on the same object. If  a method does not return self, the chain is broken, and subsequent methods cannot be called in the same line.\n",
        "   Method chaining enhances code readability annd conciseness by eliminating the need for ingtgermediate variables and reducing the number of lines of code. It allows complex operations to be expressed in a fluent and natural way, making the code easier to understand and maintain."
      ],
      "metadata": {
        "id": "BMsI0Vkj0aPt"
      }
    },
    {
      "cell_type": "markdown",
      "source": [
        "   25. What is the purpose of the __call__ method in Python?"
      ],
      "metadata": {
        "id": "WNkgL-4O1zRy"
      }
    },
    {
      "cell_type": "markdown",
      "source": [
        "   - The _call_method fin Python enables instances of a class to be called like regular functions. When a class defines the _call_ method it allows its  objects to become \"callable\". This means you can use parentheses () on the object, just as you would with a function, and the code within the _call_  method will be."
      ],
      "metadata": {
        "id": "kb6wE24O15Hf"
      }
    },
    {
      "cell_type": "markdown",
      "source": [
        "                                                Practical Questions"
      ],
      "metadata": {
        "id": "2_QKDK2a2j6u"
      }
    },
    {
      "cell_type": "markdown",
      "source": [
        "   1. Create a parent class Animal with a method speak() that prints a generic message. Create a child class Dog that overrides the speak() method to print \"Bark!\".\n"
      ],
      "metadata": {
        "id": "SNslfFwY2tte"
      }
    },
    {
      "cell_type": "code",
      "source": [
        "class Animal:\n",
        "    def speak(self):\n",
        "        print(\"Generic animal sound\")\n",
        "\n",
        "class Dog(Animal):\n",
        "    def speak(self):\n",
        "        print(\"Bark!\")"
      ],
      "metadata": {
        "id": "uqvN7iPB26yD"
      },
      "execution_count": 1,
      "outputs": []
    },
    {
      "cell_type": "markdown",
      "source": [
        "   2. Write a program to create an abstract class Shape with a method area(). Derive classes Circle and Rectangle from it and implement the area() method in both.\n"
      ],
      "metadata": {
        "id": "aJqBVTDUQC_M"
      }
    },
    {
      "cell_type": "code",
      "source": [
        " from abc import ABC, abstractmethod\n",
        "# Abstract class shape\n",
        "class shape(ABC):\n",
        "    @abstractmethod\n",
        "    def area(self):\n",
        "        pass\n",
        "\n",
        "        # Circle class\n",
        "class Circle(shape):\n",
        "    def __init__(self, radius):\n",
        "        self.radius = radius\n",
        "\n",
        "    def area(self):\n",
        "        return 3.14 * self.radius * self.radius\n",
        "        # Rectangle class\n",
        "class Rectangle(shape):\n",
        "    def __init__(self, length, width):\n",
        "        self.length = length\n",
        "        self.width = width\n",
        "\n",
        "    def area(self):\n",
        "        return self.length * self.width\n",
        "\n",
        "        # Create instances and calculate areas\n",
        "circle = Circle(5)\n",
        "rectangle = Rectangle(4, 6)\n",
        "\n",
        "print(\"Circle area:\", circle.area())\n",
        "print(\"Rectangle area:\", rectangle.area())\n",
        "\n",
        "\n",
        "\n"
      ],
      "metadata": {
        "colab": {
          "base_uri": "https://localhost:8080/"
        },
        "id": "445RVtzQQRXP",
        "outputId": "9209abc3-a3bd-4549-e2e8-9cb975806c65"
      },
      "execution_count": 4,
      "outputs": [
        {
          "output_type": "stream",
          "name": "stdout",
          "text": [
            "Circle area: 78.5\n",
            "Rectangle area: 24\n"
          ]
        }
      ]
    },
    {
      "cell_type": "markdown",
      "source": [
        "   3. Implement a multi-level inheritance scenario where a class Vehicle has an attribute type. Derive a class Car and further derive a class ElectricCar that adds a battery attribute.\n"
      ],
      "metadata": {
        "id": "lLHIrNo_Rqsu"
      }
    },
    {
      "cell_type": "code",
      "source": [
        "class vehicle:\n",
        "     def_init_(self,vehicle_type):\n",
        "        self.vehicle_type = vehicle_type\n",
        "\n",
        "  def display_type(self):\n",
        "    print(\"Vehicle type:\", self.vehicle_type)\n",
        "\n",
        "class car(vehicle):\n",
        "    def __init__(self, car_type):\n",
        "        super().__init__(\"car\")\n",
        "\n",
        "        self.car_type = car_type\n",
        "\n",
        "    def display_type(self):\n",
        "        super().display_type()\n",
        "        print(\"Car type:\", self.car_type)\n",
        "\n",
        "  class electriccar(car):\n",
        "    def __init__(self, battery_capacity):\n",
        "        super().__init__(\"electric car\")\n",
        "        self.battery_capacity = battery_capacity\n",
        "\n",
        "        def display_type(self):\n",
        "        super().display_type()\n",
        "        print(\"Battery capacity:\", self.battery_capacity)"
      ],
      "metadata": {
        "colab": {
          "base_uri": "https://localhost:8080/",
          "height": 106
        },
        "collapsed": true,
        "id": "L3uSm4swR2vt",
        "outputId": "889f0b14-a4ad-45d3-94ac-eca6506da837"
      },
      "execution_count": 12,
      "outputs": [
        {
          "output_type": "error",
          "ename": "IndentationError",
          "evalue": "unindent does not match any outer indentation level (<tokenize>, line 5)",
          "traceback": [
            "\u001b[0;36m  File \u001b[0;32m\"<tokenize>\"\u001b[0;36m, line \u001b[0;32m5\u001b[0m\n\u001b[0;31m    def display_type(self):\u001b[0m\n\u001b[0m    ^\u001b[0m\n\u001b[0;31mIndentationError\u001b[0m\u001b[0;31m:\u001b[0m unindent does not match any outer indentation level\n"
          ]
        }
      ]
    },
    {
      "cell_type": "markdown",
      "source": [
        "   4. Implement a multi-level inheritance scenario where a class Vehicle has an attribute type. Derive a class Car and further derive a class ElectricCar that adds a battery attribute.\n"
      ],
      "metadata": {
        "id": "cIIPo4hWTlqh"
      }
    },
    {
      "cell_type": "code",
      "source": [
        "class vehicle:\n",
        "    # Fix indentation of __init__ and display_type methods\n",
        "    def __init__(self, vehicle_type):\n",
        "        self.vehicle_type = vehicle_type\n",
        "\n",
        "    def display_type(self):\n",
        "        print(\"Vehicle type:\", self.vehicle_type)\n",
        "\n",
        "class car(vehicle):\n",
        "    def __init__(self, car_type):\n",
        "        super().__init__(\"car\")\n",
        "        self.car_type = car_type\n",
        "\n",
        "    def display_type(self):\n",
        "        super().display_type()\n",
        "        print(\"Car type:\", self.car_type)\n",
        "\n",
        "class electriccar(car):\n",
        "    def __init__(self, battery_capacity):\n",
        "        super().__init__(\"electric car\")\n",
        "        self.battery_capacity = battery_capacity\n",
        "\n",
        "    # Fix indentation of display_type method\n",
        "    def display_type(self):\n",
        "        super().display_type()\n",
        "        print(\"Battery capacity:\", self.battery_capacity)"
      ],
      "metadata": {
        "id": "GbLNyAy2TtZ1"
      },
      "execution_count": 13,
      "outputs": []
    },
    {
      "cell_type": "markdown",
      "source": [
        "   5. Write a program to demonstrate encapsulation by creating a class BankAccount with private attributes balance and methods to deposit, withdraw, and check balance.\n",
        "\n",
        "   "
      ],
      "metadata": {
        "id": "npQ4CrEEUo6Y"
      }
    },
    {
      "cell_type": "code",
      "source": [
        "class BankAccount:\n",
        "  def __init__(self, initial_balance=0):\n",
        "    self._balance = initial_balance\n",
        "\n",
        "  def deposit(self, amount):\n",
        "    if amount > 0:\n",
        "      self._balance += amount\n",
        "      print(f\"Deposited ${amount}. New balance: ${self._balance}\")\n",
        "    else:\n",
        "      print(\"Invalid deposit amount.\")\n",
        "\n",
        "  def withdraw(self, amount):\n",
        "    if 0 < amount <= self._balance:\n",
        "      self._balance -= amount\n",
        "      print(f\"Withdrew ${amount}. New balance: ${self._balance}\")\n",
        "    else:\n",
        "      print(\"Invalid withdrawal amount or insufficient funds.\")\n",
        "\n",
        "  def check_balance(self):\n",
        "    print(f\"Current balance: ${self._balance}\")"
      ],
      "metadata": {
        "id": "9acWMa_TWWBQ"
      },
      "execution_count": 16,
      "outputs": []
    },
    {
      "cell_type": "markdown",
      "source": [
        "   6. Demonstrate runtime polymorphism using a method play() in a base class Instrument. Derive classes Guitar and Piano that implement their own version of play().\n"
      ],
      "metadata": {
        "id": "ryLbHFu7WY0p"
      }
    },
    {
      "cell_type": "code",
      "source": [
        "class instrument:\n",
        "  def play(self):\n",
        "    print(\"Generic instrument sound\")\n",
        "\n",
        "class guitar(instrument):\n",
        "  def play(self):\n",
        "    print(\"Guitar sound\")\n",
        "\n",
        "class piano(instrument):\n",
        "  def play(self):\n",
        "    print(\"Piano sound\")"
      ],
      "metadata": {
        "id": "i2wAaiI_WiyE"
      },
      "execution_count": 17,
      "outputs": []
    },
    {
      "cell_type": "markdown",
      "source": [
        "   7. Create a class MathOperations with a class method add_numbers() to add two numbers and a static method subtract_numbers() to subtract two numbers.\n"
      ],
      "metadata": {
        "id": "hSGJCUSyXSQT"
      }
    },
    {
      "cell_type": "code",
      "source": [
        "class MathOperation:\n",
        "  @classmethod\n",
        "  def add_numbers(cls, num1, num2):\n",
        "    return num1 + num2\n",
        "\n",
        "  @staticmethod\n",
        "  def subtract_numbers(num1, num2):\n",
        "    return num1 - num2"
      ],
      "metadata": {
        "id": "Ym1iORRFXbit"
      },
      "execution_count": 18,
      "outputs": []
    },
    {
      "cell_type": "markdown",
      "source": [
        "   8. Implement a class Person with a class method to count the total number of persons created."
      ],
      "metadata": {
        "id": "PUbe293DYM3F"
      }
    },
    {
      "cell_type": "code",
      "source": [
        "class Person:\n",
        "  total_persons = 0\n",
        "\n",
        "  @classmethod\n",
        "  def count_persons(cls):\n",
        "    return cls.total_persons\n",
        "\n",
        "  def __init__(self):\n",
        "    Person.total_persons += 1"
      ],
      "metadata": {
        "id": "IvbKHvBGYR-3"
      },
      "execution_count": 19,
      "outputs": []
    },
    {
      "cell_type": "markdown",
      "source": [
        "   9. Write a class Fraction with attributes numerator and denominator. Override the str method to display the fraction as \"numerator/denominator\".\n"
      ],
      "metadata": {
        "id": "fxvBJYkkYsL7"
      }
    },
    {
      "cell_type": "code",
      "source": [
        "class Fraction:\n",
        "  def __init__(self, numerator, denominator):\n",
        "    self.numerator = numerator\n",
        "    self.denominator = denominator\n",
        "\n",
        "  def __str__(self):\n",
        "    return f\"{self.numerator}/{self.denominator}\"\n",
        "\n",
        "  def _str_(self):\n",
        "    return f\"{self.numerator}/{self.denominator}\""
      ],
      "metadata": {
        "id": "FRUQLR8KY3nV"
      },
      "execution_count": 22,
      "outputs": []
    },
    {
      "cell_type": "markdown",
      "source": [
        "   10. Demonstrate operator overloading by creating a class Vector and overriding the add method to add two vectors.\n"
      ],
      "metadata": {
        "id": "rOWHxP-OZlVY"
      }
    },
    {
      "cell_type": "code",
      "source": [
        "class Vector:\n",
        "  def __init__(self, x, y):\n",
        "    self.x = x\n",
        "    self.y = y\n",
        "\n",
        "  def __add__(self, other):\n",
        "    return Vector(self.x + other.x, self.y + other.y)\n",
        "class Vector:\n",
        "  def __init__(self, x, y):\n",
        "    self.x = x\n",
        "    self.y = y\n",
        "\n",
        "  def __add__(self, other):\n",
        "    return Vector(self.x + other.x, self.y + other.y)"
      ],
      "metadata": {
        "id": "isjkk8XFZuRN"
      },
      "execution_count": 26,
      "outputs": []
    },
    {
      "cell_type": "markdown",
      "source": [
        "   11. Create a class Person with attributes name and age. Add a method greet() that prints \"Hello, my name is {name} and I am {age} years old.\"\n"
      ],
      "metadata": {
        "id": "1dNFojZsaVMd"
      }
    },
    {
      "cell_type": "code",
      "source": [
        "class person:\n",
        "  def __init__(self,name,age):\n",
        "    self.name = name\n",
        "    self.age = age\n",
        "class person:\n",
        "  def __init__(self,name,age):\n",
        "    self.name = name\n",
        "    self.age = age\n",
        "\n",
        "  def greet(self):\n",
        "    print(f\"Hello\")\n",
        "class person:\n",
        "  def __init__(self,name,age):\n",
        "    self.name = name\n",
        "    self.age = age\n",
        "\n",
        "  def greet(self):\n",
        "    print(f\"Hello\")"
      ],
      "metadata": {
        "id": "0LSLxIXEae4l"
      },
      "execution_count": 30,
      "outputs": []
    },
    {
      "cell_type": "markdown",
      "source": [
        "   12. Implement a class Student with attributes name and grades. Create a method average_grade() to compute the average of the grades.\n"
      ],
      "metadata": {
        "id": "tHfOVDOubEcD"
      }
    },
    {
      "cell_type": "code",
      "source": [
        "class Student:\n",
        "  def __init__(self,name,grades):\n",
        "    self.name = name\n",
        "    self.grades = grades\n",
        "\n",
        "  def average_grade(self):\n",
        "    if not self.grades:\n",
        "      return 0\n",
        "    return sum(self.grades) / len(self.grades)"
      ],
      "metadata": {
        "id": "DNr-bslYb2u-"
      },
      "execution_count": 34,
      "outputs": []
    },
    {
      "cell_type": "markdown",
      "source": [
        "   13. Create a class Rectangle with methods set_dimensions() to set the dimensions and area() to calculate the area.\n"
      ],
      "metadata": {
        "id": "kAmrPnQPcKya"
      }
    },
    {
      "cell_type": "code",
      "source": [
        "class Rectangle:\n",
        "  def __init__(self):\n",
        "    self.length = 0\n",
        "    self.width = 0\n",
        "\n",
        "  def set_dimensions(self, length, width):\n",
        "    self.length = length\n",
        "    self.width = width\n",
        "\n",
        "  def area(self):\n",
        "    return self.length * self.width\n",
        "\n",
        "  def set_dimensions(self, length, width):\n",
        "    self.length = length\n",
        "    self.width = width\n",
        "\n",
        "  def area(self):\n",
        "    return\n"
      ],
      "metadata": {
        "id": "lPSqVP5PcSif"
      },
      "execution_count": 37,
      "outputs": []
    },
    {
      "cell_type": "markdown",
      "source": [
        "   14. Create a class Employee with a method calculate_salary() that computes the salary based on hours worked and hourly rate. Create a derived class Manager that adds a bonus to the salary.\n",
        "\n"
      ],
      "metadata": {
        "id": "f23KyrUldHuI"
      }
    },
    {
      "cell_type": "code",
      "source": [
        "class Employee:\n",
        "  def __init__(self, name, hours_worked, hourly_rate):\n",
        "    self.name = name\n",
        "    self.hours_worked = hours_worked\n",
        "    self.hourly_rate = hourly_rate\n",
        "\n",
        "  def calculate_salary(self):\n",
        "    return self.hours"
      ],
      "metadata": {
        "id": "AQjAEYIkdNtu"
      },
      "execution_count": 38,
      "outputs": []
    },
    {
      "cell_type": "markdown",
      "source": [
        "   15. Create a class Product with attributes name, price, and quantity. Implement a method total_price() that calculates the total price of the product.\n"
      ],
      "metadata": {
        "id": "SpxhFxtBdyRb"
      }
    },
    {
      "cell_type": "code",
      "source": [
        "class Product:\n",
        "  def __init__(self, name, price, quantity):\n",
        "    self.name = name\n",
        "    self.price = price\n",
        "    self.quantity = quantity\n",
        "\n",
        "  def total_price(self):\n",
        "    return self.price * self.quantity"
      ],
      "metadata": {
        "id": "gI8t4_knd6mB"
      },
      "execution_count": 39,
      "outputs": []
    },
    {
      "cell_type": "markdown",
      "source": [
        "   16. Create a class Animal with an abstract method sound(). Create two derived classes Cow and Sheep that implement the sound() method.\n"
      ],
      "metadata": {
        "id": "pspl51tVebSW"
      }
    },
    {
      "cell_type": "code",
      "source": [
        "from abc import ABC, abstractmethod\n",
        "\n",
        "class Animal(ABC):\n",
        "  @abstractmethod\n",
        "  def sound(self):\n",
        "    pass\n",
        "\n",
        "class Cow(Animal):\n",
        "  def sound(self):\n",
        "    print(\"Moo!\")\n",
        "\n",
        "class Sheep(Animal):\n",
        "  def sound(self):\n",
        "    print(\"Baaa!\")\n",
        "#create a cow and a sheep\n",
        "cow = Cow()\n",
        "sheep = Sheep()\n",
        "\n",
        "#call the sound method on each animal\n",
        "cow.sound()\n",
        "sheep.sound()"
      ],
      "metadata": {
        "colab": {
          "base_uri": "https://localhost:8080/"
        },
        "id": "b9OHORIyehpB",
        "outputId": "d90dc6b2-f85a-4705-f56c-27a366db6bb4"
      },
      "execution_count": 40,
      "outputs": [
        {
          "output_type": "stream",
          "name": "stdout",
          "text": [
            "Moo!\n",
            "Baaa!\n"
          ]
        }
      ]
    },
    {
      "cell_type": "markdown",
      "source": [
        "   17. Create a class Book with attributes title, author, and year_published. Add a method get_book_info() that returns a formatted string with the book's details.\n"
      ],
      "metadata": {
        "id": "VxOTOPPzfXtT"
      }
    },
    {
      "cell_type": "code",
      "source": [
        "class Book:\n",
        "  def __init__(self, title, author, year_published):\n",
        "    self.title = title\n",
        "    self.author = author\n",
        "    self.year_published = year_published\n",
        "\n",
        "  def get_book_info(self):\n",
        "    return f\"{self.title} by {self.author}\"\n",
        "    self.year_published = year_published\n",
        "class Book:\n",
        "  def __init__(self, title, author, year_published):\n",
        "    self.title = title\n",
        "    self.author = author\n",
        "    self.year_published = year_published\n",
        "\n",
        "  def get_book_info(self):\n",
        "    return f\"{self.title} by {self.author}\""
      ],
      "metadata": {
        "id": "I1Y9c1R7fezr"
      },
      "execution_count": 44,
      "outputs": []
    },
    {
      "cell_type": "markdown",
      "source": [
        "   18. Create a class House with attributes address and price. Create a derived class Mansion that adds an attribute number_of_rooms.\n"
      ],
      "metadata": {
        "id": "SxWXcockgJFb"
      }
    },
    {
      "cell_type": "code",
      "source": [
        "class House:\n",
        "  # Added space between def and __init__ and added the colon\n",
        "  def __init__(self, address, price):\n",
        "    self.address = address\n",
        "    self.price = price\n",
        "\n",
        "class Mansion(House):\n",
        "  def __init__(self, address, price, number_of_rooms):\n",
        "    super().__init__(address, price)\n",
        "    self.number_of_rooms = number_of_rooms"
      ],
      "metadata": {
        "id": "8y4Ao7vsg8cT"
      },
      "execution_count": 46,
      "outputs": []
    }
  ]
}